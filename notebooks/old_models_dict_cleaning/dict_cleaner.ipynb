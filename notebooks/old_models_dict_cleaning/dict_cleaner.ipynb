{
 "cells": [
  {
   "cell_type": "markdown",
   "id": "3c5d8691",
   "metadata": {},
   "source": [
    "This notebook will be used to clean the 3 generated lists.\n",
    "\n",
    "-I may need to add some words to hit the 1001 count-"
   ]
  },
  {
   "cell_type": "markdown",
   "id": "2f1ce78c",
   "metadata": {},
   "source": [
    "##### Library Imports"
   ]
  },
  {
   "cell_type": "code",
   "execution_count": null,
   "id": "824af4f5",
   "metadata": {},
   "outputs": [],
   "source": [
    "import pandas as pd\n",
    "import enchant\n",
    "from tqdm import tqdm\n",
    "\n",
    "print(\"Library Import Complete.\")"
   ]
  },
  {
   "cell_type": "markdown",
   "id": "5aab828f",
   "metadata": {},
   "source": [
    "##### Grabbing the spreadsheet "
   ]
  },
  {
   "cell_type": "code",
   "execution_count": null,
   "id": "636b356e",
   "metadata": {},
   "outputs": [],
   "source": [
    "file_path = \"C:\\\\Users\\\\joshu\\\\OneDrive - Georgia State University\\\\Dojo\\\\Projects\\\\Work\\\\Ruminations\\\\project1001\\\\data\\\\ocr_dicts.xlsx\"\n",
    "df = pd.read_excel(file_path)\n",
    "\n",
    "print(\"Spreadsheet Successfully Obtained.\")"
   ]
  },
  {
   "cell_type": "code",
   "execution_count": 4,
   "id": "4e1a30f9",
   "metadata": {},
   "outputs": [
    {
     "name": "stdout",
     "output_type": "stream",
     "text": [
      "Analyzing columns: Gemini, ChatGPT, Claude\n",
      "Total rows: 1011\n"
     ]
    }
   ],
   "source": [
    "col_a, col_b, col_c = df.columns[0], df.columns[1], df.columns[2]\n",
    "\n",
    "print(f\"Analyzing columns: {col_a}, {col_b}, {col_c}\")\n",
    "print(f\"Total rows: {len(df)}\")"
   ]
  },
  {
   "cell_type": "markdown",
   "id": "19e660a1",
   "metadata": {},
   "source": [
    "##### Using Enchant's English dictionary"
   ]
  },
  {
   "cell_type": "code",
   "execution_count": 5,
   "id": "e4cf7384",
   "metadata": {},
   "outputs": [],
   "source": [
    "english_dict = enchant.Dict(\"en_US\")"
   ]
  },
  {
   "cell_type": "markdown",
   "id": "a95e0a6e",
   "metadata": {},
   "source": [
    "##### Function to check if each word is in the dictionary"
   ]
  },
  {
   "cell_type": "code",
   "execution_count": 6,
   "id": "4202b51c",
   "metadata": {},
   "outputs": [],
   "source": [
    "def is_dictionary_word(word):\n",
    "    if not isinstance(word, str):\n",
    "        return False\n",
    "    # Remove leading/trailing spaces\n",
    "    clean_word = word.strip()\n",
    "    # Check if the exact phrase is in dictionary\n",
    "    return english_dict.check(clean_word)"
   ]
  },
  {
   "cell_type": "markdown",
   "id": "513187be",
   "metadata": {},
   "source": [
    "##### Preparing data for new spreadsheet"
   ]
  },
  {
   "cell_type": "code",
   "execution_count": 7,
   "id": "5f2defab",
   "metadata": {},
   "outputs": [
    {
     "ename": "KeyError",
     "evalue": "'Word'",
     "output_type": "error",
     "traceback": [
      "\u001b[31m---------------------------------------------------------------------------\u001b[39m",
      "\u001b[31mKeyError\u001b[39m                                  Traceback (most recent call last)",
      "\u001b[36mFile \u001b[39m\u001b[32mc:\\Users\\joshu\\OneDrive - Georgia State University\\Dojo\\Projects\\Work\\Ruminations\\project1001\\nlpvenv\\Lib\\site-packages\\pandas\\core\\indexes\\base.py:3812\u001b[39m, in \u001b[36mIndex.get_loc\u001b[39m\u001b[34m(self, key)\u001b[39m\n\u001b[32m   3811\u001b[39m \u001b[38;5;28;01mtry\u001b[39;00m:\n\u001b[32m-> \u001b[39m\u001b[32m3812\u001b[39m     \u001b[38;5;28;01mreturn\u001b[39;00m \u001b[38;5;28;43mself\u001b[39;49m\u001b[43m.\u001b[49m\u001b[43m_engine\u001b[49m\u001b[43m.\u001b[49m\u001b[43mget_loc\u001b[49m\u001b[43m(\u001b[49m\u001b[43mcasted_key\u001b[49m\u001b[43m)\u001b[49m\n\u001b[32m   3813\u001b[39m \u001b[38;5;28;01mexcept\u001b[39;00m \u001b[38;5;167;01mKeyError\u001b[39;00m \u001b[38;5;28;01mas\u001b[39;00m err:\n",
      "\u001b[36mFile \u001b[39m\u001b[32mpandas/_libs/index.pyx:167\u001b[39m, in \u001b[36mpandas._libs.index.IndexEngine.get_loc\u001b[39m\u001b[34m()\u001b[39m\n",
      "\u001b[36mFile \u001b[39m\u001b[32mpandas/_libs/index.pyx:196\u001b[39m, in \u001b[36mpandas._libs.index.IndexEngine.get_loc\u001b[39m\u001b[34m()\u001b[39m\n",
      "\u001b[36mFile \u001b[39m\u001b[32mpandas/_libs/hashtable_class_helper.pxi:7088\u001b[39m, in \u001b[36mpandas._libs.hashtable.PyObjectHashTable.get_item\u001b[39m\u001b[34m()\u001b[39m\n",
      "\u001b[36mFile \u001b[39m\u001b[32mpandas/_libs/hashtable_class_helper.pxi:7096\u001b[39m, in \u001b[36mpandas._libs.hashtable.PyObjectHashTable.get_item\u001b[39m\u001b[34m()\u001b[39m\n",
      "\u001b[31mKeyError\u001b[39m: 'Word'",
      "\nThe above exception was the direct cause of the following exception:\n",
      "\u001b[31mKeyError\u001b[39m                                  Traceback (most recent call last)",
      "\u001b[36mCell\u001b[39m\u001b[36m \u001b[39m\u001b[32mIn[7]\u001b[39m\u001b[32m, line 1\u001b[39m\n\u001b[32m----> \u001b[39m\u001b[32m1\u001b[39m df[\u001b[33m'\u001b[39m\u001b[33mWord\u001b[39m\u001b[33m'\u001b[39m] = \u001b[43mdf\u001b[49m\u001b[43m[\u001b[49m\u001b[33;43m'\u001b[39;49m\u001b[33;43mWord\u001b[39;49m\u001b[33;43m'\u001b[39;49m\u001b[43m]\u001b[49m.astype(\u001b[38;5;28mstr\u001b[39m).str.strip()  \u001b[38;5;66;03m# normalize spaces\u001b[39;00m\n\u001b[32m      2\u001b[39m valid_words = df[df[\u001b[33m'\u001b[39m\u001b[33mWord\u001b[39m\u001b[33m'\u001b[39m].apply(is_dictionary_word)].copy()\n",
      "\u001b[36mFile \u001b[39m\u001b[32mc:\\Users\\joshu\\OneDrive - Georgia State University\\Dojo\\Projects\\Work\\Ruminations\\project1001\\nlpvenv\\Lib\\site-packages\\pandas\\core\\frame.py:4107\u001b[39m, in \u001b[36mDataFrame.__getitem__\u001b[39m\u001b[34m(self, key)\u001b[39m\n\u001b[32m   4105\u001b[39m \u001b[38;5;28;01mif\u001b[39;00m \u001b[38;5;28mself\u001b[39m.columns.nlevels > \u001b[32m1\u001b[39m:\n\u001b[32m   4106\u001b[39m     \u001b[38;5;28;01mreturn\u001b[39;00m \u001b[38;5;28mself\u001b[39m._getitem_multilevel(key)\n\u001b[32m-> \u001b[39m\u001b[32m4107\u001b[39m indexer = \u001b[38;5;28;43mself\u001b[39;49m\u001b[43m.\u001b[49m\u001b[43mcolumns\u001b[49m\u001b[43m.\u001b[49m\u001b[43mget_loc\u001b[49m\u001b[43m(\u001b[49m\u001b[43mkey\u001b[49m\u001b[43m)\u001b[49m\n\u001b[32m   4108\u001b[39m \u001b[38;5;28;01mif\u001b[39;00m is_integer(indexer):\n\u001b[32m   4109\u001b[39m     indexer = [indexer]\n",
      "\u001b[36mFile \u001b[39m\u001b[32mc:\\Users\\joshu\\OneDrive - Georgia State University\\Dojo\\Projects\\Work\\Ruminations\\project1001\\nlpvenv\\Lib\\site-packages\\pandas\\core\\indexes\\base.py:3819\u001b[39m, in \u001b[36mIndex.get_loc\u001b[39m\u001b[34m(self, key)\u001b[39m\n\u001b[32m   3814\u001b[39m     \u001b[38;5;28;01mif\u001b[39;00m \u001b[38;5;28misinstance\u001b[39m(casted_key, \u001b[38;5;28mslice\u001b[39m) \u001b[38;5;129;01mor\u001b[39;00m (\n\u001b[32m   3815\u001b[39m         \u001b[38;5;28misinstance\u001b[39m(casted_key, abc.Iterable)\n\u001b[32m   3816\u001b[39m         \u001b[38;5;129;01mand\u001b[39;00m \u001b[38;5;28many\u001b[39m(\u001b[38;5;28misinstance\u001b[39m(x, \u001b[38;5;28mslice\u001b[39m) \u001b[38;5;28;01mfor\u001b[39;00m x \u001b[38;5;129;01min\u001b[39;00m casted_key)\n\u001b[32m   3817\u001b[39m     ):\n\u001b[32m   3818\u001b[39m         \u001b[38;5;28;01mraise\u001b[39;00m InvalidIndexError(key)\n\u001b[32m-> \u001b[39m\u001b[32m3819\u001b[39m     \u001b[38;5;28;01mraise\u001b[39;00m \u001b[38;5;167;01mKeyError\u001b[39;00m(key) \u001b[38;5;28;01mfrom\u001b[39;00m\u001b[38;5;250m \u001b[39m\u001b[34;01merr\u001b[39;00m\n\u001b[32m   3820\u001b[39m \u001b[38;5;28;01mexcept\u001b[39;00m \u001b[38;5;167;01mTypeError\u001b[39;00m:\n\u001b[32m   3821\u001b[39m     \u001b[38;5;66;03m# If we have a listlike key, _check_indexing_error will raise\u001b[39;00m\n\u001b[32m   3822\u001b[39m     \u001b[38;5;66;03m#  InvalidIndexError. Otherwise we fall through and re-raise\u001b[39;00m\n\u001b[32m   3823\u001b[39m     \u001b[38;5;66;03m#  the TypeError.\u001b[39;00m\n\u001b[32m   3824\u001b[39m     \u001b[38;5;28mself\u001b[39m._check_indexing_error(key)\n",
      "\u001b[31mKeyError\u001b[39m: 'Word'"
     ]
    }
   ],
   "source": [
    "df['Word'] = df['Word'].astype(str).str.strip()  # normalize spaces\n",
    "valid_words = df[df['Word'].apply(is_dictionary_word)].copy()"
   ]
  },
  {
   "cell_type": "code",
   "execution_count": null,
   "id": "203e1054",
   "metadata": {},
   "outputs": [],
   "source": [
    "output_path = \"dictionary_valid_words.xlsx\"\n",
    "valid_words.to_excel(output_path, index=False)"
   ]
  },
  {
   "cell_type": "code",
   "execution_count": null,
   "id": "0507b4d2",
   "metadata": {},
   "outputs": [],
   "source": [
    "print(f\"Saved {len(valid_words)} valid dictionary words to {output_path}\")\n"
   ]
  }
 ],
 "metadata": {
  "kernelspec": {
   "display_name": "nlpvenv",
   "language": "python",
   "name": "python3"
  },
  "language_info": {
   "codemirror_mode": {
    "name": "ipython",
    "version": 3
   },
   "file_extension": ".py",
   "mimetype": "text/x-python",
   "name": "python",
   "nbconvert_exporter": "python",
   "pygments_lexer": "ipython3",
   "version": "3.13.3"
  }
 },
 "nbformat": 4,
 "nbformat_minor": 5
}
