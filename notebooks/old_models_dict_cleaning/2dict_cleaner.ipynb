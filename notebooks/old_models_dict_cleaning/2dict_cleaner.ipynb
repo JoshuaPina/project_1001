{
 "cells": [
  {
   "cell_type": "code",
   "execution_count": 47,
   "id": "f731902f",
   "metadata": {},
   "outputs": [
    {
     "name": "stdout",
     "output_type": "stream",
     "text": [
      "Step 1: Installing Path, Pandas, tqdm, and Enchant\n",
      "--------------------------------------------------\n",
      "Step 1: Library Imports Complete.\n"
     ]
    }
   ],
   "source": [
    "print(\"Step 1: Installing Path, Pandas, tqdm, and Enchant\")\n",
    "\n",
    "from pathlib import Path\n",
    "import pandas as pd\n",
    "import enchant\n",
    "from tqdm import tqdm\n",
    "print(\"-\"*50)\n",
    "print(\"Step 1: Library Imports Complete.\")"
   ]
  },
  {
   "cell_type": "code",
   "execution_count": 48,
   "id": "a7ef8ee6",
   "metadata": {},
   "outputs": [
    {
     "name": "stdout",
     "output_type": "stream",
     "text": [
      "Step 2: Load the Spreadsheet.\n",
      "--------------------------------------------------\n",
      "Step 2: Spreadsheet Successfully Obtained.\n"
     ]
    }
   ],
   "source": [
    "print(\"Step 2: Load the Spreadsheet.\")\n",
    "\n",
    "file_path = \"C:\\\\Users\\\\joshu\\\\OneDrive - Georgia State University\\\\Dojo\\\\Projects\\\\Work\\\\Ruminations\\\\project1001\\\\data\\\\ocr_dicts.xlsx\"\n",
    "df = pd.read_excel(file_path)\n",
    "print(\"-\"*50)\n",
    "print(\"Step 2: Spreadsheet Successfully Obtained.\")"
   ]
  },
  {
   "cell_type": "code",
   "execution_count": 49,
   "id": "09ce7a88",
   "metadata": {},
   "outputs": [
    {
     "name": "stdout",
     "output_type": "stream",
     "text": [
      "Step 3: Quick Analysis + Confirmation\n",
      "------------------------------------------------------------\n",
      "Columns found: Gemini List, ChatGPT List, Claude List\n",
      "Total rows: 1011\n",
      "------------------------------------------------------------\n",
      "\n",
      "Step 3: Confirmation Complete.\n"
     ]
    }
   ],
   "source": [
    "col_a, col_b, col_c = df.columns[0] +\" List\", df.columns[1] +\" List\", df.columns[2] +\" List\"\n",
    "print(\"Step 3: Quick Analysis + Confirmation\")\n",
    "print(\"-\"*60)\n",
    "print(f\"Columns found: {col_a}, {col_b}, {col_c}\")\n",
    "print(f\"Total rows: {len(df)}\")\n",
    "print(\"-\"*60)\n",
    "print()\n",
    "print(\"Step 3: Confirmation Complete.\")"
   ]
  }
 ],
 "metadata": {
  "kernelspec": {
   "display_name": "nlpvenv",
   "language": "python",
   "name": "python3"
  },
  "language_info": {
   "codemirror_mode": {
    "name": "ipython",
    "version": 3
   },
   "file_extension": ".py",
   "mimetype": "text/x-python",
   "name": "python",
   "nbconvert_exporter": "python",
   "pygments_lexer": "ipython3",
   "version": "3.13.3"
  }
 },
 "nbformat": 4,
 "nbformat_minor": 5
}
